{
 "cells": [
  {
   "cell_type": "code",
   "execution_count": 2,
   "id": "2741e9cd",
   "metadata": {},
   "outputs": [
    {
     "name": "stdout",
     "output_type": "stream",
     "text": [
      "Requirement already satisfied: selenium in c:\\users\\ashut\\anaconda3\\lib\\site-packages (4.16.0)\n",
      "Requirement already satisfied: urllib3[socks]<3,>=1.26 in c:\\users\\ashut\\anaconda3\\lib\\site-packages (from selenium) (1.26.16)\n",
      "Requirement already satisfied: trio~=0.17 in c:\\users\\ashut\\anaconda3\\lib\\site-packages (from selenium) (0.23.2)\n",
      "Requirement already satisfied: trio-websocket~=0.9 in c:\\users\\ashut\\anaconda3\\lib\\site-packages (from selenium) (0.11.1)\n",
      "Requirement already satisfied: certifi>=2021.10.8 in c:\\users\\ashut\\anaconda3\\lib\\site-packages (from selenium) (2023.7.22)\n",
      "Requirement already satisfied: attrs>=20.1.0 in c:\\users\\ashut\\anaconda3\\lib\\site-packages (from trio~=0.17->selenium) (22.1.0)\n",
      "Requirement already satisfied: sortedcontainers in c:\\users\\ashut\\anaconda3\\lib\\site-packages (from trio~=0.17->selenium) (2.4.0)\n",
      "Requirement already satisfied: idna in c:\\users\\ashut\\anaconda3\\lib\\site-packages (from trio~=0.17->selenium) (3.4)\n",
      "Requirement already satisfied: outcome in c:\\users\\ashut\\anaconda3\\lib\\site-packages (from trio~=0.17->selenium) (1.3.0.post0)\n",
      "Requirement already satisfied: sniffio>=1.3.0 in c:\\users\\ashut\\anaconda3\\lib\\site-packages (from trio~=0.17->selenium) (1.3.0)\n",
      "Requirement already satisfied: cffi>=1.14 in c:\\users\\ashut\\anaconda3\\lib\\site-packages (from trio~=0.17->selenium) (1.15.1)\n",
      "Requirement already satisfied: wsproto>=0.14 in c:\\users\\ashut\\anaconda3\\lib\\site-packages (from trio-websocket~=0.9->selenium) (1.2.0)\n",
      "Requirement already satisfied: PySocks!=1.5.7,<2.0,>=1.5.6 in c:\\users\\ashut\\anaconda3\\lib\\site-packages (from urllib3[socks]<3,>=1.26->selenium) (1.7.1)\n",
      "Requirement already satisfied: pycparser in c:\\users\\ashut\\anaconda3\\lib\\site-packages (from cffi>=1.14->trio~=0.17->selenium) (2.21)\n",
      "Requirement already satisfied: h11<1,>=0.9.0 in c:\\users\\ashut\\anaconda3\\lib\\site-packages (from wsproto>=0.14->trio-websocket~=0.9->selenium) (0.14.0)\n",
      "Note: you may need to restart the kernel to use updated packages.\n"
     ]
    }
   ],
   "source": [
    "pip install selenium"
   ]
  },
  {
   "cell_type": "code",
   "execution_count": 1,
   "id": "b5fcadfe",
   "metadata": {},
   "outputs": [],
   "source": [
    "from selenium import webdriver\n",
    "from selenium.webdriver.chrome.options import Options\n",
    "from selenium.webdriver.common.by import By"
   ]
  },
  {
   "cell_type": "code",
   "execution_count": 2,
   "id": "15ef3044",
   "metadata": {},
   "outputs": [],
   "source": [
    "options = Options()\n",
    "\n",
    "# following is for google colab, can work in jupyter without\n",
    "\n",
    "#option.add_argument(--headless)\n",
    "#option.add_argument(--no-sandbox)"
   ]
  },
  {
   "cell_type": "code",
   "execution_count": 3,
   "id": "f4934ec4",
   "metadata": {},
   "outputs": [],
   "source": [
    "import pandas as pd\n",
    "import numpy as np\n",
    "import time"
   ]
  },
  {
   "cell_type": "markdown",
   "id": "8c56bdaf",
   "metadata": {},
   "source": [
    "youtube (top 100 songs)"
   ]
  },
  {
   "cell_type": "code",
   "execution_count": 4,
   "id": "a7dd63c5",
   "metadata": {},
   "outputs": [],
   "source": [
    "driver = webdriver.Chrome(options = options)\n",
    "driver.get('https://www.youtube.com/')"
   ]
  },
  {
   "cell_type": "code",
   "execution_count": 5,
   "id": "9d0be345",
   "metadata": {},
   "outputs": [],
   "source": [
    "driver.maximize_window()"
   ]
  },
  {
   "cell_type": "code",
   "execution_count": 6,
   "id": "524a2573",
   "metadata": {},
   "outputs": [],
   "source": [
    "search_btn = driver.find_element(By.XPATH, '//input[@id=\"search\"]')\n",
    "search_btn.send_keys('top 100 songs 2023')\n",
    "search_btn.submit()"
   ]
  },
  {
   "cell_type": "code",
   "execution_count": 8,
   "id": "4cfa660d",
   "metadata": {},
   "outputs": [],
   "source": [
    "playlist_btn = driver.find_element(By.XPATH, \"//a[contains(text(), 'View full playlist')]\")\n",
    "playlist_btn.click()"
   ]
  },
  {
   "cell_type": "code",
   "execution_count": 9,
   "id": "2033accf",
   "metadata": {},
   "outputs": [
    {
     "data": {
      "text/plain": [
       "['Jack Harlow - Lovin On Me [Official Music Video]',\n",
       " 'Doja Cat - Paint The Town Red (Official Video)',\n",
       " 'Dua Lipa - Dance The Night (From Barbie The Album) [Official Music Video]',\n",
       " 'Ariana Grande - yes, and? (official music video)',\n",
       " 'Zach Bryan - I Remember Everything (feat. Kacey Musgraves)',\n",
       " 'Tyla - Truth or Dare (Official Music Video)',\n",
       " 'juju - Wasted Summers (Official Music Video)',\n",
       " 'Luke Combs - Fast Car (Lyrics)',\n",
       " 'Drake - First Person Shooter ft. J. Cole',\n",
       " 'Taylor Swift - Cruel Summer (Official Audio)',\n",
       " 'Tyla - Water (Official Music Video)',\n",
       " \"N3WYRKLA - it don't hit no more (Official Music Video)\",\n",
       " 'Morgan Wallen - Last Night (One Record At A Time Sessions)',\n",
       " 'Dua Lipa - Houdini (Official Music Video)',\n",
       " 'Megan Thee Stallion - HISS [Official Video]',\n",
       " 'Bktherula - CRAYON (Official Music Video)',\n",
       " 'Rema, Selena Gomez - Calm Down (Official Music Video)',\n",
       " 'Teddy Swims - Lose Control (Live)',\n",
       " 'Gunna - fukumean [Official Visualizer]',\n",
       " 'Miley Cyrus - Used To Be Young (Official Video)',\n",
       " \"정국 (Jung Kook) '3D (feat. Jack Harlow)' Official MV\",\n",
       " 'Olivia Rodrigo - vampire (Official Lyric Video)',\n",
       " 'Nicki Minaj & Ice Spice – Barbie World (with Aqua) [Official Music Video]',\n",
       " 'SZA - Snooze (Official Video)',\n",
       " 'Miley Cyrus - Flowers (Official Video)',\n",
       " '21 Savage - redrum (Official Music Video)',\n",
       " 'Muni Long - Made For Me (Official Music Video)',\n",
       " 'Travis Scott - I KNOW ? (Official Music Video)',\n",
       " 'Bailey Zimmerman - Religiously (Official Music Video)',\n",
       " 'Tate McRae - greedy (Official Video)',\n",
       " 'Lil Durk - All My Life ft. J. Cole (Official Video)',\n",
       " 'Billie Eilish - What Was I Made For? (Official Music Video)',\n",
       " \"Metro Boomin, The Weeknd, 21 Savage - Creepin' (Visualizer)\",\n",
       " 'Benson Boone - Beautiful Things (Official Music Video)',\n",
       " 'The Weeknd, JENNIE, Lily-Rose Depp - One Of The Girls (Official Video)',\n",
       " 'Taylor Swift ft. Ice Spice - Karma (Official Music Video)',\n",
       " 'Olivia Rodrigo - bad idea right? (Official Video)',\n",
       " 'Drake - Another Late Night ft. Lil Yachty (Directed by Cole Bennett)',\n",
       " 'Jelly Roll - \"NEED A FAVOR\" (Official Music Video)',\n",
       " 'Taylor Swift - Anti-Hero (Official Music Video)',\n",
       " 'Anycia ft. Latto - Back Outside (Official Music Video)',\n",
       " 'Selena Gomez - Single Soon (Official Music Video)',\n",
       " 'Morgan Wallen - Thinkin’ Bout Me',\n",
       " 'Oliver Anthony - Rich Men North Of Richmond',\n",
       " 'SZA - Kill Bill (Audio)',\n",
       " \"FIFTY FIFTY (피프티피프티) - 'Cupid' Official MV\",\n",
       " 'KAROL G, Peso Pluma - QLONA (Visualizer)',\n",
       " 'Luke Combs - Love You Anyway (Official Studio Video)',\n",
       " 'Travis Scott - MELTDOWN (Official Audio) ft. Drake',\n",
       " 'Rod Wave - Call Your Friends (Official Video)',\n",
       " 'PinkPantheress - Nice to meet you (feat. Central Cee) [Official Video]',\n",
       " \"정국 (Jung Kook) 'Seven (feat. Latto)' Official MV\",\n",
       " 'Drake - Slime You Out ft. SZA (Official Audio)',\n",
       " 'Kenya Grace - Strangers (Official Lyric Video)',\n",
       " 'Jason Aldean - Try That In A Small Town (Official Music Video)',\n",
       " 'Toosii - Favorite Song (Official Video)',\n",
       " 'Sabrina Carpenter - Feather (Official Video)',\n",
       " 'Lainey Wilson - Watermelon Moonshine (Official Music Video)',\n",
       " 'Kane Brown - Bury Me in Georgia (Official Music Video)',\n",
       " 'Mitski - My Love Mine All Mine (Official Video)',\n",
       " 'Jordan Davis - Next Thing You Know (Official Music Video)',\n",
       " 'Ella Baila Sola - (Video Oficial) - Eslabon Armado y Peso Pluma - DEL Records 2023',\n",
       " 'David Kushner - Daylight (Official Music Video)',\n",
       " 'Yng Lvcas & Peso Pluma - La Bebe (Remix) [Video Oficial]',\n",
       " 'Tate McRae - exes (Official Video)',\n",
       " 'Doja Cat - Agora Hills (Official Video)',\n",
       " 'Travis Scott - FE!N (Official Audio) ft. Playboi Carti',\n",
       " 'Lil Nas X - J CHRIST (Official Video)',\n",
       " 'Latto - Put It On Da Floor Again (feat. Cardi B) [Official Video]',\n",
       " 'Doechii - What It Is (Block Boy) feat. Kodak Black [Official Video]',\n",
       " 'Travis Scott - TELEKINESIS (Official Audio) ft. SZA, Future',\n",
       " 'Tems - Me & U (Official Video)',\n",
       " 'Burna Boy - City Boys [Official Music Video]',\n",
       " 'Myke Towers - Lala (Video Oficial)',\n",
       " 'Post Malone - Chemical (Official Music Video)',\n",
       " 'Troye Sivan - One of Your Girls (Official Video)',\n",
       " 'Young Nudy - Peaches & Eggplants (Official Video) ft. 21 Savage',\n",
       " 'LADY GAGA (Video Oficial) - Peso Pluma, Gabito Ballesteros, Junior H',\n",
       " 'Noah Kahan, Post Malone - Dial Drunk (Official Lyric Video)',\n",
       " 'Ice Spice - Deli',\n",
       " 'HARDY - TRUCK BED (Official Music Video)',\n",
       " 'Warren Zeiders - Pretty Little Poison (Official Music Video)',\n",
       " 'Travis Scott, Bad Bunny, The Weeknd - K-POP (Official Music Video)',\n",
       " 'KAROL G - MI EX TENÍA RAZÓN (Official Video)',\n",
       " 'The Weeknd, Madonna, Playboi Carti - Popular (Visualizer)',\n",
       " 'Ice Spice & Nicki Minaj - Princess Diana (Official Music Video)',\n",
       " 'That Mexican OT - Johnny Dang (feat. Paul Wall & Drodi) (Official Music Video)',\n",
       " \"Polo G - Barely Holdin' On (Official Video)\",\n",
       " \"NewJeans (뉴진스) 'Super Shy' Official MV\",\n",
       " 'Quavo & Future - Turn Your Clic Up (Official Video)',\n",
       " 'Chris Brown - Summer Too Hot (Official Video)',\n",
       " 'The Weeknd, Ariana Grande - Die For You (Remix / Lyric Video)',\n",
       " 'PinkPantheress, Ice Spice - Boy’s a liar Pt. 2 (Official Video)',\n",
       " 'Harry Styles - As It Was (Official Video)',\n",
       " 'Libianca - People (Official Video)',\n",
       " 'Rod Wave - Fight The Feeling (Official Video)',\n",
       " 'Kaliii - Area Codes (Official Music Video)',\n",
       " \"David Guetta & Bebe Rexha - I'm Good (Blue) [Official Music Video]\",\n",
       " \"Key Glock - Let's Go (Official Video)\",\n",
       " 'OCEAN ALLEY - CONFIDENCE (Official Video)']"
      ]
     },
     "execution_count": 9,
     "metadata": {},
     "output_type": "execute_result"
    }
   ],
   "source": [
    "videos = driver.find_elements(By.CSS_SELECTOR, '#video-title.ytd-playlist-video-renderer')\n",
    "videos_list = [video.text for video in videos]\n",
    "videos_list"
   ]
  },
  {
   "cell_type": "code",
   "execution_count": 11,
   "id": "eb9ae992",
   "metadata": {},
   "outputs": [],
   "source": [
    "driver.quit()"
   ]
  },
  {
   "cell_type": "code",
   "execution_count": null,
   "id": "47baffa6",
   "metadata": {},
   "outputs": [],
   "source": []
  }
 ],
 "metadata": {
  "kernelspec": {
   "display_name": "Python 3 (ipykernel)",
   "language": "python",
   "name": "python3"
  },
  "language_info": {
   "codemirror_mode": {
    "name": "ipython",
    "version": 3
   },
   "file_extension": ".py",
   "mimetype": "text/x-python",
   "name": "python",
   "nbconvert_exporter": "python",
   "pygments_lexer": "ipython3",
   "version": "3.11.5"
  }
 },
 "nbformat": 4,
 "nbformat_minor": 5
}
